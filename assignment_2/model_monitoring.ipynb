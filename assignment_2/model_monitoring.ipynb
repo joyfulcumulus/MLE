{
 "cells": [
  {
   "cell_type": "code",
   "execution_count": 1,
   "id": "7a6128ad",
   "metadata": {},
   "outputs": [],
   "source": [
    "import os\n",
    "import glob\n",
    "import pandas as pd\n",
    "import numpy as np\n",
    "import seaborn as sns\n",
    "import matplotlib.pyplot as plt\n",
    "import pprint\n",
    "import pickle\n",
    "\n",
    "from datetime import datetime, timedelta\n",
    "from dateutil.relativedelta import relativedelta\n",
    "\n",
    "import pyspark\n",
    "import pyspark.sql.functions as F\n",
    "from pyspark.sql.functions import col\n",
    "from pyspark.sql.types import DateType, StringType, FloatType, StructType, StructField\n",
    "\n",
    "from sklearn.metrics import recall_score, brier_score_loss\n",
    "\n",
    "import model_monitoring"
   ]
  },
  {
   "cell_type": "code",
   "execution_count": null,
   "id": "8e12171d-6f9c-40e8-85cb-57f50865f905",
   "metadata": {},
   "outputs": [],
   "source": [
    "# Build a .py script that generates model metrics and save to datamart (gold)"
   ]
  },
  {
   "cell_type": "markdown",
   "id": "1d9f64f2",
   "metadata": {},
   "source": [
    "## Set up pyspark session"
   ]
  },
  {
   "cell_type": "code",
   "execution_count": 2,
   "id": "e5dad91e",
   "metadata": {},
   "outputs": [
    {
     "name": "stderr",
     "output_type": "stream",
     "text": [
      "Setting default log level to \"WARN\".\n",
      "To adjust logging level use sc.setLogLevel(newLevel). For SparkR, use setLogLevel(newLevel).\n",
      "25/06/24 07:21:26 WARN NativeCodeLoader: Unable to load native-hadoop library for your platform... using builtin-java classes where applicable\n"
     ]
    }
   ],
   "source": [
    "# Initialize SparkSession\n",
    "spark = pyspark.sql.SparkSession.builder \\\n",
    "    .appName(\"model_monitoring\") \\\n",
    "    .master(\"local[*]\") \\\n",
    "    .getOrCreate()\n",
    "\n",
    "# Set log level to ERROR to hide warnings\n",
    "spark.sparkContext.setLogLevel(\"ERROR\")"
   ]
  },
  {
   "cell_type": "markdown",
   "id": "be4a2966-f9c7-4bb7-a10d-e120ea13bf01",
   "metadata": {},
   "source": [
    "## set up config"
   ]
  },
  {
   "cell_type": "code",
   "execution_count": 3,
   "id": "96ad967a-9dd3-4d79-a47f-76a335f01d04",
   "metadata": {},
   "outputs": [],
   "source": [
    "# these will be arguments passed by Airflow\n",
    "snapshot_date_str = \"2024-01-01\" # ds (month of monitoring)\n",
    "model_name = \"credit_model_2024_09_01.pkl\" # model to evaluate against"
   ]
  },
  {
   "cell_type": "code",
   "execution_count": 4,
   "id": "38eb576c-0f17-46f6-a78e-fa6ca83aff35",
   "metadata": {},
   "outputs": [
    {
     "name": "stdout",
     "output_type": "stream",
     "text": [
      "{'model_bank_directory': 'model_bank/',\n",
      " 'model_name': 'credit_model_2024_09_01.pkl',\n",
      " 'model_psi_ref_preds_filepath': 'model_bank/credit_model_2024_09_01_psi_ref_preds.parquet',\n",
      " 'snapshot_date': datetime.datetime(2024, 1, 1, 0, 0),\n",
      " 'snapshot_date_str': '2024-01-01'}\n"
     ]
    }
   ],
   "source": [
    "config = {}\n",
    "config[\"snapshot_date_str\"] = snapshot_date_str\n",
    "config[\"snapshot_date\"] = datetime.strptime(config[\"snapshot_date_str\"], \"%Y-%m-%d\")\n",
    "config[\"model_name\"] = model_name\n",
    "config[\"model_bank_directory\"] = \"model_bank/\"\n",
    "config[\"model_psi_ref_preds_filepath\"] = config[\"model_bank_directory\"] + config[\"model_name\"][:-4] + \"_psi_ref_preds.parquet\"\n",
    "\n",
    "pprint.pprint(config)"
   ]
  },
  {
   "cell_type": "markdown",
   "id": "f0ad647a",
   "metadata": {},
   "source": [
    "## fetch baseline month for PSI computation using `model_name`"
   ]
  },
  {
   "cell_type": "code",
   "execution_count": 6,
   "id": "d2c1a3e5-1164-4336-b3ac-622d7a2d7f91",
   "metadata": {},
   "outputs": [
    {
     "name": "stdout",
     "output_type": "stream",
     "text": [
      "psi_ref_df row_count: 498\n",
      "+-----------+-------------+--------------------+-------------------+\n",
      "|Customer_ID|snapshot_date|          model_name|  model_predictions|\n",
      "+-----------+-------------+--------------------+-------------------+\n",
      "| CUS_0xbf2e|   2024-06-01|credit_model_2024...|0.11080322414636612|\n",
      "| CUS_0xbf67|   2024-06-01|credit_model_2024...|0.07106562703847885|\n",
      "| CUS_0xbf9a|   2024-06-01|credit_model_2024...| 0.5223297476768494|\n",
      "| CUS_0xc016|   2024-06-01|credit_model_2024...|0.16164369881153107|\n",
      "| CUS_0xc02d|   2024-06-01|credit_model_2024...|0.12054947763681412|\n",
      "+-----------+-------------+--------------------+-------------------+\n",
      "only showing top 5 rows\n",
      "\n"
     ]
    }
   ],
   "source": [
    "psi_ref_sdf = spark.read.parquet(config[\"model_psi_ref_preds_filepath\"])\n",
    "print(\"psi_ref_df row_count:\",psi_ref_sdf.count())\n",
    "\n",
    "psi_ref_sdf.show(5)"
   ]
  },
  {
   "cell_type": "markdown",
   "id": "d7af0f41-2ef8-4df0-a527-d5b33e78acfe",
   "metadata": {},
   "source": [
    "## fetch predictions and labels for `snapshot_date_str`"
   ]
  },
  {
   "cell_type": "markdown",
   "id": "e5c12d63-cdf9-411a-a7fc-8f3bb29f7c35",
   "metadata": {},
   "source": [
    "For model evaluation, the tricky part is:\n",
    "* The inference happens at the month of loan start (or loan application date) \n",
    "* the labels only appear at Month on Book (MOB) = 6. (snapshot_date_str + 6 months)\n",
    "\n",
    "So for example\n",
    "* CUS_0x1000 applies for loan on 2023_05_01. We get his information from this month and make an inference\n",
    "* Label for CUS_0x1000 appears only on 2023_11_01\n",
    "\n",
    "Our labels only appear from 2023_07_01. So in this scenario, for 2024_01_01, we fetch the predictions our model made 6 months ago to check back."
   ]
  },
  {
   "cell_type": "code",
   "execution_count": 7,
   "id": "dfd0611d-1bca-4133-9a35-eba9b3384bad",
   "metadata": {},
   "outputs": [],
   "source": [
    "# format date properly\n",
    "formatted_date = config[\"snapshot_date_str\"].replace('-', '_')"
   ]
  },
  {
   "cell_type": "code",
   "execution_count": 8,
   "id": "2fccfed1",
   "metadata": {},
   "outputs": [
    {
     "name": "stdout",
     "output_type": "stream",
     "text": [
      "label_sdf row_count: 471\n"
     ]
    }
   ],
   "source": [
    "# Fetch the labels first\n",
    "# If no label yet, or label count = 0, exit task\n",
    "label_directory =  \"datamart/gold/label_store/\"\n",
    "filename = f\"gold_label_store_{formatted_date}.parquet\"\n",
    "file_path = os.path.join(label_directory, filename)\n",
    "\n",
    "try:\n",
    "    label_sdf = spark.read.parquet(file_path)\n",
    "    print(\"label_sdf row_count:\",label_sdf.count())\n",
    "\n",
    "    if label_sdf.count() == 0:\n",
    "        print(f'Zero label data for {formatted_date}, exiting flow')\n",
    "        # do early return here\n",
    "\n",
    "except Exception as e:\n",
    "    print(f'No label data file for {formatted_date}, exiting flow')"
   ]
  },
  {
   "cell_type": "code",
   "execution_count": 9,
   "id": "8e2215eb-661f-4fa2-bf99-07c213ce8267",
   "metadata": {},
   "outputs": [
    {
     "data": {
      "text/plain": [
       "'2023_07_01'"
      ]
     },
     "execution_count": 9,
     "metadata": {},
     "output_type": "execute_result"
    }
   ],
   "source": [
    "# Compute date 6 months ago and format this date\n",
    "past_date = config[\"snapshot_date\"] - relativedelta(months=6)\n",
    "formatted_past_date = past_date.strftime(\"%Y_%m_%d\")\n",
    "formatted_past_date"
   ]
  },
  {
   "cell_type": "code",
   "execution_count": 10,
   "id": "379e8ac9",
   "metadata": {},
   "outputs": [
    {
     "name": "stdout",
     "output_type": "stream",
     "text": [
      "model_pred_sdf row_count: 471\n"
     ]
    }
   ],
   "source": [
    "# Fetch predictions\n",
    "model_pred_directory = f\"datamart/gold/model_predictions/{config['model_name'][:-4]}/\"\n",
    "filename = f\"{config['model_name'][:-4]}_preds_{formatted_past_date}.parquet\"\n",
    "file_path = os.path.join(model_pred_directory, filename)\n",
    "\n",
    "model_pred_sdf = spark.read.parquet(file_path)\n",
    "print(\"model_pred_sdf row_count:\",model_pred_sdf.count())"
   ]
  },
  {
   "cell_type": "markdown",
   "id": "228130b9-3b8f-489d-a468-b8b2c2f6fd5c",
   "metadata": {},
   "source": [
    "## extract required fields"
   ]
  },
  {
   "cell_type": "code",
   "execution_count": 11,
   "id": "34bfb656-f162-47bb-8259-61ab8ee63fce",
   "metadata": {},
   "outputs": [
    {
     "name": "stdout",
     "output_type": "stream",
     "text": [
      "pred_label_sdf row_count: 471\n"
     ]
    }
   ],
   "source": [
    "# Match prediction to label for each Customer_ID so that both in order\n",
    "pred_label_sdf = label_sdf.select([col(c) for c in label_sdf.columns]) # make a fresh copy of one table\n",
    "pred_label_sdf = pred_label_sdf.join(model_pred_sdf, on=\"Customer_ID\", how=\"inner\")\n",
    "\n",
    "# Check size of resultant table. \n",
    "print(f\"pred_label_sdf row_count: {pred_label_sdf.count()}\")"
   ]
  },
  {
   "cell_type": "code",
   "execution_count": 12,
   "id": "0e7081b2-87d0-4d21-9a89-c832db365a6a",
   "metadata": {},
   "outputs": [],
   "source": [
    "# Convert to pandas df\n",
    "psi_ref_df = psi_ref_sdf.toPandas()\n",
    "pred_label_df = pred_label_sdf.toPandas()"
   ]
  },
  {
   "cell_type": "code",
   "execution_count": 32,
   "id": "458274f2-b32d-4dbb-b6e6-b269d5b57c56",
   "metadata": {},
   "outputs": [],
   "source": [
    "# Extract relevant data\n",
    "y_pred_proba = pred_label_df['model_predictions']\n",
    "y_pred = (y_pred_proba >= 0.5).astype(int) # Assume threshold 0.5\n",
    "y_true = pred_label_df['label']\n",
    "y_pred_proba_ref = psi_ref_df['model_predictions']"
   ]
  },
  {
   "cell_type": "markdown",
   "id": "3c9f92d1-d9ad-4a53-b446-5b906db30de4",
   "metadata": {},
   "source": [
    "## compute metrics"
   ]
  },
  {
   "cell_type": "code",
   "execution_count": 33,
   "id": "8a282d65-c3df-484a-91ce-3a338a2c971b",
   "metadata": {},
   "outputs": [],
   "source": [
    "def calculate_psi(y_pred_proba_ref, y_pred_proba, buckets=10):\n",
    "    \"\"\"\n",
    "    Calculate the Population Stability Index (PSI) between two distributions.\n",
    "    Parameters:\n",
    "        y_pred_proba_ref: reference distribution of model prediction\n",
    "        y_pred_proba: current distribution of model prediction (for that month)\n",
    "        buckets: number of quantile bins to split the scores. Default 10 for 10% buckets in classification probabilities\n",
    "    Returns:\n",
    "        psi_value: float\n",
    "    \"\"\"\n",
    "    def get_bin_proportions(values, breakpoints):\n",
    "        counts, _ = np.histogram(values, bins=breakpoints)\n",
    "        return counts / len(values)\n",
    "\n",
    "    # Extract proba values at 0, 10, 20..., 100th pctile from y_pred_ref\n",
    "    breakpoints = np.percentile(y_pred_proba_ref, np.linspace(0, 100, buckets + 1))\n",
    "    breakpoints[0] = -np.inf  # handle outliers below 0\n",
    "    breakpoints[-1] = np.inf # handle outliers above 1\n",
    "\n",
    "    expected_percents = get_bin_proportions(y_pred_proba_ref, breakpoints)\n",
    "    actual_percents = get_bin_proportions(y_pred_proba, breakpoints)\n",
    "\n",
    "    # Avoid division by zero or log(0) by giving those with 0 some value\n",
    "    expected_percents = np.where(expected_percents == 0, 1e-6, expected_percents)\n",
    "    actual_percents = np.where(actual_percents == 0, 1e-6, actual_percents)\n",
    "\n",
    "    psi = np.sum((expected_percents - actual_percents) * np.log(expected_percents / actual_percents))\n",
    "\n",
    "    return psi"
   ]
  },
  {
   "cell_type": "code",
   "execution_count": 34,
   "id": "12d1a0d7-e8bc-426f-927a-b6a75cf3c271",
   "metadata": {},
   "outputs": [
    {
     "name": "stdout",
     "output_type": "stream",
     "text": [
      "recall:  0.5642857142857143\n",
      "brier score: 0.14195083304832215\n",
      "Population stability index: 0.027492894464298367\n"
     ]
    }
   ],
   "source": [
    "# Recall\n",
    "recall = recall_score(y_true, y_pred, pos_label=1)\n",
    "print('recall: ', recall)\n",
    "\n",
    "# Brier Score\n",
    "brier = brier_score_loss(y_true, y_pred_proba)  # proba for class 1\n",
    "print('brier score:', brier)\n",
    "\n",
    "# Population Stability Index\n",
    "psi = calculate_psi(y_pred_proba_ref, y_pred_proba)\n",
    "print('Population stability index:', psi)"
   ]
  },
  {
   "cell_type": "markdown",
   "id": "264593da-62cd-4460-8435-2b9501c25558",
   "metadata": {},
   "source": [
    "## save model metrics to `model_metrics_tab`"
   ]
  },
  {
   "cell_type": "code",
   "execution_count": 42,
   "id": "30533f3f",
   "metadata": {
    "scrolled": true
   },
   "outputs": [],
   "source": [
    "# Define schema of correct data types\n",
    "column_type_map = StructType([\n",
    "    StructField(\"snapshot_date\", DateType(), True),\n",
    "    StructField(\"model_version\", StringType(), True),\n",
    "    StructField(\"recall\", FloatType(), True),\n",
    "    StructField(\"brier_score\", FloatType(), True),\n",
    "    StructField(\"psi\", FloatType(), True)\n",
    "])\n",
    "\n",
    "# Create spark dataframe to store results\n",
    "results_row = {\n",
    "    \"snapshot_date\": config[\"snapshot_date\"],\n",
    "    \"model_version\": str(config['model_name']),\n",
    "    \"recall\": float(recall),\n",
    "    \"brier_score\": float(brier),\n",
    "    \"psi\": float(psi)\n",
    "}\n",
    "\n",
    "# Create df with schema enforced\n",
    "metrics_df = spark.createDataFrame([results_row], schema=column_type_map)"
   ]
  },
  {
   "cell_type": "code",
   "execution_count": 49,
   "id": "95b36b0a-22a1-4657-9427-41f6803efbf7",
   "metadata": {},
   "outputs": [
    {
     "name": "stdout",
     "output_type": "stream",
     "text": [
      "Updated and deduplicated (if applicable) gold metrics table\n"
     ]
    }
   ],
   "source": [
    "# Create directory\n",
    "gold_metrics_directory = \"datamart/gold/model_metrics/\"\n",
    "if not os.path.exists(gold_metrics_directory):\n",
    "    os.makedirs(gold_metrics_directory)\n",
    "\n",
    "# Concat path\n",
    "metrics_table_path = f\"{gold_metrics_directory}gold_metrics_tab.parquet\"\n",
    "\n",
    "# Check if table exists\n",
    "if not os.path.exists(metrics_table_path):\n",
    "    # create table and save\n",
    "    metrics_df.write.mode(\"overwrite\").parquet(metrics_table_path)\n",
    "    print('created gold metrics table and saved results_row')\n",
    "else:\n",
    "    # read existing table\n",
    "    existing_df = spark.read.parquet(metrics_table_path)\n",
    "    \n",
    "    # Union and drop duplicates\n",
    "    combined_df = existing_df.unionByName(metrics_df)\n",
    "    combined_df = combined_df.dropDuplicates([\"snapshot_date\", \"model_version\"])\n",
    "    \n",
    "    # Overwrite table with deduplicated data\n",
    "    combined_df.write.mode(\"overwrite\").parquet(metrics_table_path)\n",
    "    print(\"Updated and deduplicated (if applicable) gold metrics table\")"
   ]
  },
  {
   "cell_type": "markdown",
   "id": "00c336dc-b5d1-4859-92d8-575859a5fc3d",
   "metadata": {},
   "source": [
    "## manually run script to generate model monitoring metrics for each month"
   ]
  },
  {
   "cell_type": "code",
   "execution_count": 2,
   "id": "93e0fe93-b810-40f4-9572-771d13209527",
   "metadata": {},
   "outputs": [],
   "source": [
    "# set up config\n",
    "# snapshot_date_str = \"2023-01-01\"\n",
    "# backfill for all 2 years of data given (regardless of whether labels have appeared yet)\n",
    "\n",
    "start_date_str = \"2023-01-01\"\n",
    "end_date_str = \"2024-12-01\""
   ]
  },
  {
   "cell_type": "code",
   "execution_count": 3,
   "id": "cc5072f3-e63d-458e-b293-a1bd64d41e94",
   "metadata": {},
   "outputs": [],
   "source": [
    "# Specify model_name again (if you want to skip the Jupyter cell right at the top)\n",
    "model_name = \"credit_model_2024_09_01.pkl\""
   ]
  },
  {
   "cell_type": "code",
   "execution_count": 4,
   "id": "724d3ea8-e461-4ef8-89f4-50926f201a10",
   "metadata": {},
   "outputs": [],
   "source": [
    "# generate list of dates to process\n",
    "def generate_first_of_month_dates(start_date_str, end_date_str):\n",
    "    # Convert the date strings to datetime objects\n",
    "    start_date = datetime.strptime(start_date_str, \"%Y-%m-%d\")\n",
    "    end_date = datetime.strptime(end_date_str, \"%Y-%m-%d\")\n",
    "    \n",
    "    # List to store the first of month dates\n",
    "    first_of_month_dates = []\n",
    "\n",
    "    # Start from the first of the month of the start_date\n",
    "    current_date = datetime(start_date.year, start_date.month, 1)\n",
    "\n",
    "    while current_date <= end_date:\n",
    "        # Append the date in yyyy-mm-dd format\n",
    "        first_of_month_dates.append(current_date.strftime(\"%Y-%m-%d\"))\n",
    "        \n",
    "        # Move to the first of the next month\n",
    "        if current_date.month == 12:\n",
    "            current_date = datetime(current_date.year + 1, 1, 1)\n",
    "        else:\n",
    "            current_date = datetime(current_date.year, current_date.month + 1, 1)\n",
    "\n",
    "    return first_of_month_dates\n",
    "\n",
    "dates_str_lst = generate_first_of_month_dates(start_date_str, end_date_str)"
   ]
  },
  {
   "cell_type": "code",
   "execution_count": 6,
   "id": "07085c84-25d6-4147-ae67-8d99a5aa2eea",
   "metadata": {
    "scrolled": true
   },
   "outputs": [
    {
     "name": "stdout",
     "output_type": "stream",
     "text": [
      "processing snapshot_date:  2023-01-01\n",
      "\n",
      "---starting job---\n",
      "\n"
     ]
    },
    {
     "name": "stderr",
     "output_type": "stream",
     "text": [
      "Setting default log level to \"WARN\".\n",
      "To adjust logging level use sc.setLogLevel(newLevel). For SparkR, use setLogLevel(newLevel).\n",
      "25/06/24 08:54:15 WARN NativeCodeLoader: Unable to load native-hadoop library for your platform... using builtin-java classes where applicable\n"
     ]
    },
    {
     "name": "stdout",
     "output_type": "stream",
     "text": [
      "{'model_bank_directory': 'model_bank/',\n",
      " 'model_name': 'credit_model_2024_09_01.pkl',\n",
      " 'model_psi_ref_preds_filepath': 'model_bank/credit_model_2024_09_01_psi_ref_preds.parquet',\n",
      " 'snapshot_date': datetime.datetime(2023, 1, 1, 0, 0),\n",
      " 'snapshot_date_str': '2023-01-01'}\n",
      "psi_ref_df row_count: 498\n",
      "label_sdf row_count: 0\n",
      "Zero label data for 2023_01_01, exiting flow\n",
      "Stopping Spark session...\n",
      "processing snapshot_date:  2023-02-01\n",
      "\n",
      "---starting job---\n",
      "\n",
      "{'model_bank_directory': 'model_bank/',\n",
      " 'model_name': 'credit_model_2024_09_01.pkl',\n",
      " 'model_psi_ref_preds_filepath': 'model_bank/credit_model_2024_09_01_psi_ref_preds.parquet',\n",
      " 'snapshot_date': datetime.datetime(2023, 2, 1, 0, 0),\n",
      " 'snapshot_date_str': '2023-02-01'}\n",
      "psi_ref_df row_count: 498\n",
      "label_sdf row_count: 0\n",
      "Zero label data for 2023_02_01, exiting flow\n",
      "Stopping Spark session...\n",
      "processing snapshot_date:  2023-03-01\n",
      "\n",
      "---starting job---\n",
      "\n",
      "{'model_bank_directory': 'model_bank/',\n",
      " 'model_name': 'credit_model_2024_09_01.pkl',\n",
      " 'model_psi_ref_preds_filepath': 'model_bank/credit_model_2024_09_01_psi_ref_preds.parquet',\n",
      " 'snapshot_date': datetime.datetime(2023, 3, 1, 0, 0),\n",
      " 'snapshot_date_str': '2023-03-01'}\n",
      "psi_ref_df row_count: 498\n",
      "label_sdf row_count: 0\n",
      "Zero label data for 2023_03_01, exiting flow\n",
      "Stopping Spark session...\n",
      "processing snapshot_date:  2023-04-01\n",
      "\n",
      "---starting job---\n",
      "\n",
      "{'model_bank_directory': 'model_bank/',\n",
      " 'model_name': 'credit_model_2024_09_01.pkl',\n",
      " 'model_psi_ref_preds_filepath': 'model_bank/credit_model_2024_09_01_psi_ref_preds.parquet',\n",
      " 'snapshot_date': datetime.datetime(2023, 4, 1, 0, 0),\n",
      " 'snapshot_date_str': '2023-04-01'}\n",
      "psi_ref_df row_count: 498\n",
      "label_sdf row_count: 0\n",
      "Zero label data for 2023_04_01, exiting flow\n",
      "Stopping Spark session...\n",
      "processing snapshot_date:  2023-05-01\n",
      "\n",
      "---starting job---\n",
      "\n",
      "{'model_bank_directory': 'model_bank/',\n",
      " 'model_name': 'credit_model_2024_09_01.pkl',\n",
      " 'model_psi_ref_preds_filepath': 'model_bank/credit_model_2024_09_01_psi_ref_preds.parquet',\n",
      " 'snapshot_date': datetime.datetime(2023, 5, 1, 0, 0),\n",
      " 'snapshot_date_str': '2023-05-01'}\n",
      "psi_ref_df row_count: 498\n",
      "label_sdf row_count: 0\n",
      "Zero label data for 2023_05_01, exiting flow\n",
      "Stopping Spark session...\n",
      "processing snapshot_date:  2023-06-01\n",
      "\n",
      "---starting job---\n",
      "\n",
      "{'model_bank_directory': 'model_bank/',\n",
      " 'model_name': 'credit_model_2024_09_01.pkl',\n",
      " 'model_psi_ref_preds_filepath': 'model_bank/credit_model_2024_09_01_psi_ref_preds.parquet',\n",
      " 'snapshot_date': datetime.datetime(2023, 6, 1, 0, 0),\n",
      " 'snapshot_date_str': '2023-06-01'}\n",
      "psi_ref_df row_count: 498\n",
      "label_sdf row_count: 0\n",
      "Zero label data for 2023_06_01, exiting flow\n",
      "Stopping Spark session...\n",
      "processing snapshot_date:  2023-07-01\n",
      "\n",
      "---starting job---\n",
      "\n",
      "{'model_bank_directory': 'model_bank/',\n",
      " 'model_name': 'credit_model_2024_09_01.pkl',\n",
      " 'model_psi_ref_preds_filepath': 'model_bank/credit_model_2024_09_01_psi_ref_preds.parquet',\n",
      " 'snapshot_date': datetime.datetime(2023, 7, 1, 0, 0),\n",
      " 'snapshot_date_str': '2023-07-01'}\n",
      "psi_ref_df row_count: 498\n",
      "label_sdf row_count: 530\n",
      "model_pred_sdf row_count: 530\n",
      "pred_label_sdf row_count: 530\n",
      "recall:  0.5428571428571428\n",
      "brier score: 0.122662727446321\n",
      "Population stability index: 0.0543880507151797\n"
     ]
    },
    {
     "name": "stderr",
     "output_type": "stream",
     "text": [
      "                                                                                "
     ]
    },
    {
     "name": "stdout",
     "output_type": "stream",
     "text": [
      "Updated and deduplicated (if applicable) gold metrics table\n",
      "\n",
      "---completed job---\n",
      "\n",
      "\n",
      "Stopping Spark session...\n",
      "processing snapshot_date:  2023-08-01\n",
      "\n",
      "---starting job---\n",
      "\n",
      "{'model_bank_directory': 'model_bank/',\n",
      " 'model_name': 'credit_model_2024_09_01.pkl',\n",
      " 'model_psi_ref_preds_filepath': 'model_bank/credit_model_2024_09_01_psi_ref_preds.parquet',\n",
      " 'snapshot_date': datetime.datetime(2023, 8, 1, 0, 0),\n",
      " 'snapshot_date_str': '2023-08-01'}\n",
      "psi_ref_df row_count: 498\n",
      "label_sdf row_count: 501\n",
      "model_pred_sdf row_count: 501\n",
      "pred_label_sdf row_count: 501\n",
      "recall:  0.5\n",
      "brier score: 0.14632265301415515\n",
      "Population stability index: 0.017448223596969542\n"
     ]
    },
    {
     "name": "stderr",
     "output_type": "stream",
     "text": [
      "                                                                                "
     ]
    },
    {
     "name": "stdout",
     "output_type": "stream",
     "text": [
      "Updated and deduplicated (if applicable) gold metrics table\n",
      "\n",
      "---completed job---\n",
      "\n",
      "\n",
      "Stopping Spark session...\n",
      "processing snapshot_date:  2023-09-01\n",
      "\n",
      "---starting job---\n",
      "\n",
      "{'model_bank_directory': 'model_bank/',\n",
      " 'model_name': 'credit_model_2024_09_01.pkl',\n",
      " 'model_psi_ref_preds_filepath': 'model_bank/credit_model_2024_09_01_psi_ref_preds.parquet',\n",
      " 'snapshot_date': datetime.datetime(2023, 9, 1, 0, 0),\n",
      " 'snapshot_date_str': '2023-09-01'}\n",
      "psi_ref_df row_count: 498\n",
      "label_sdf row_count: 506\n",
      "model_pred_sdf row_count: 506\n",
      "pred_label_sdf row_count: 506\n",
      "recall:  0.5617283950617284\n",
      "brier score: 0.1389632185229582\n",
      "Population stability index: 0.02302551432492441\n"
     ]
    },
    {
     "name": "stderr",
     "output_type": "stream",
     "text": [
      "                                                                                "
     ]
    },
    {
     "name": "stdout",
     "output_type": "stream",
     "text": [
      "Updated and deduplicated (if applicable) gold metrics table\n",
      "\n",
      "---completed job---\n",
      "\n",
      "\n",
      "Stopping Spark session...\n",
      "processing snapshot_date:  2023-10-01\n",
      "\n",
      "---starting job---\n",
      "\n",
      "{'model_bank_directory': 'model_bank/',\n",
      " 'model_name': 'credit_model_2024_09_01.pkl',\n",
      " 'model_psi_ref_preds_filepath': 'model_bank/credit_model_2024_09_01_psi_ref_preds.parquet',\n",
      " 'snapshot_date': datetime.datetime(2023, 10, 1, 0, 0),\n",
      " 'snapshot_date_str': '2023-10-01'}\n",
      "psi_ref_df row_count: 498\n",
      "label_sdf row_count: 510\n",
      "model_pred_sdf row_count: 510\n",
      "pred_label_sdf row_count: 510\n",
      "recall:  0.5620437956204379\n",
      "brier score: 0.12592929139312434\n",
      "Population stability index: 0.0218819967691841\n"
     ]
    },
    {
     "name": "stderr",
     "output_type": "stream",
     "text": [
      "                                                                                "
     ]
    },
    {
     "name": "stdout",
     "output_type": "stream",
     "text": [
      "Updated and deduplicated (if applicable) gold metrics table\n",
      "\n",
      "---completed job---\n",
      "\n",
      "\n",
      "Stopping Spark session...\n",
      "processing snapshot_date:  2023-11-01\n",
      "\n",
      "---starting job---\n",
      "\n",
      "{'model_bank_directory': 'model_bank/',\n",
      " 'model_name': 'credit_model_2024_09_01.pkl',\n",
      " 'model_psi_ref_preds_filepath': 'model_bank/credit_model_2024_09_01_psi_ref_preds.parquet',\n",
      " 'snapshot_date': datetime.datetime(2023, 11, 1, 0, 0),\n",
      " 'snapshot_date_str': '2023-11-01'}\n",
      "psi_ref_df row_count: 498\n",
      "label_sdf row_count: 521\n",
      "model_pred_sdf row_count: 521\n",
      "pred_label_sdf row_count: 521\n",
      "recall:  0.6762589928057554\n",
      "brier score: 0.11070313920911229\n",
      "Population stability index: 0.04481093025895003\n"
     ]
    },
    {
     "name": "stderr",
     "output_type": "stream",
     "text": [
      "                                                                                "
     ]
    },
    {
     "name": "stdout",
     "output_type": "stream",
     "text": [
      "Updated and deduplicated (if applicable) gold metrics table\n",
      "\n",
      "---completed job---\n",
      "\n",
      "\n",
      "Stopping Spark session...\n",
      "processing snapshot_date:  2023-12-01\n",
      "\n",
      "---starting job---\n",
      "\n",
      "{'model_bank_directory': 'model_bank/',\n",
      " 'model_name': 'credit_model_2024_09_01.pkl',\n",
      " 'model_psi_ref_preds_filepath': 'model_bank/credit_model_2024_09_01_psi_ref_preds.parquet',\n",
      " 'snapshot_date': datetime.datetime(2023, 12, 1, 0, 0),\n",
      " 'snapshot_date_str': '2023-12-01'}\n",
      "psi_ref_df row_count: 498\n",
      "label_sdf row_count: 517\n",
      "model_pred_sdf row_count: 517\n",
      "pred_label_sdf row_count: 517\n",
      "recall:  0.5401459854014599\n",
      "brier score: 0.1249294665243653\n",
      "Population stability index: 0.024636293053547878\n"
     ]
    },
    {
     "name": "stderr",
     "output_type": "stream",
     "text": [
      "                                                                                "
     ]
    },
    {
     "name": "stdout",
     "output_type": "stream",
     "text": [
      "Updated and deduplicated (if applicable) gold metrics table\n",
      "\n",
      "---completed job---\n",
      "\n",
      "\n",
      "Stopping Spark session...\n",
      "processing snapshot_date:  2024-01-01\n",
      "\n",
      "---starting job---\n",
      "\n",
      "{'model_bank_directory': 'model_bank/',\n",
      " 'model_name': 'credit_model_2024_09_01.pkl',\n",
      " 'model_psi_ref_preds_filepath': 'model_bank/credit_model_2024_09_01_psi_ref_preds.parquet',\n",
      " 'snapshot_date': datetime.datetime(2024, 1, 1, 0, 0),\n",
      " 'snapshot_date_str': '2024-01-01'}\n",
      "psi_ref_df row_count: 498\n",
      "label_sdf row_count: 471\n",
      "model_pred_sdf row_count: 471\n",
      "pred_label_sdf row_count: 471\n",
      "recall:  0.5642857142857143\n",
      "brier score: 0.14195083304832215\n",
      "Population stability index: 0.027492894464298367\n"
     ]
    },
    {
     "name": "stderr",
     "output_type": "stream",
     "text": [
      "                                                                                "
     ]
    },
    {
     "name": "stdout",
     "output_type": "stream",
     "text": [
      "Updated and deduplicated (if applicable) gold metrics table\n",
      "\n",
      "---completed job---\n",
      "\n",
      "\n",
      "Stopping Spark session...\n",
      "processing snapshot_date:  2024-02-01\n",
      "\n",
      "---starting job---\n",
      "\n",
      "{'model_bank_directory': 'model_bank/',\n",
      " 'model_name': 'credit_model_2024_09_01.pkl',\n",
      " 'model_psi_ref_preds_filepath': 'model_bank/credit_model_2024_09_01_psi_ref_preds.parquet',\n",
      " 'snapshot_date': datetime.datetime(2024, 2, 1, 0, 0),\n",
      " 'snapshot_date_str': '2024-02-01'}\n",
      "psi_ref_df row_count: 498\n",
      "label_sdf row_count: 481\n",
      "model_pred_sdf row_count: 481\n",
      "pred_label_sdf row_count: 481\n",
      "recall:  0.6115107913669064\n",
      "brier score: 0.12007649055332022\n",
      "Population stability index: 0.04480922580862232\n"
     ]
    },
    {
     "name": "stderr",
     "output_type": "stream",
     "text": [
      "                                                                                "
     ]
    },
    {
     "name": "stdout",
     "output_type": "stream",
     "text": [
      "Updated and deduplicated (if applicable) gold metrics table\n",
      "\n",
      "---completed job---\n",
      "\n",
      "\n",
      "Stopping Spark session...\n",
      "processing snapshot_date:  2024-03-01\n",
      "\n",
      "---starting job---\n",
      "\n",
      "{'model_bank_directory': 'model_bank/',\n",
      " 'model_name': 'credit_model_2024_09_01.pkl',\n",
      " 'model_psi_ref_preds_filepath': 'model_bank/credit_model_2024_09_01_psi_ref_preds.parquet',\n",
      " 'snapshot_date': datetime.datetime(2024, 3, 1, 0, 0),\n",
      " 'snapshot_date_str': '2024-03-01'}\n",
      "psi_ref_df row_count: 498\n",
      "label_sdf row_count: 454\n",
      "model_pred_sdf row_count: 454\n",
      "pred_label_sdf row_count: 454\n",
      "recall:  0.5798319327731093\n",
      "brier score: 0.12158051113718076\n",
      "Population stability index: 0.01359694519845742\n"
     ]
    },
    {
     "name": "stderr",
     "output_type": "stream",
     "text": [
      "                                                                                "
     ]
    },
    {
     "name": "stdout",
     "output_type": "stream",
     "text": [
      "Updated and deduplicated (if applicable) gold metrics table\n",
      "\n",
      "---completed job---\n",
      "\n",
      "\n",
      "Stopping Spark session...\n",
      "processing snapshot_date:  2024-04-01\n",
      "\n",
      "---starting job---\n",
      "\n",
      "{'model_bank_directory': 'model_bank/',\n",
      " 'model_name': 'credit_model_2024_09_01.pkl',\n",
      " 'model_psi_ref_preds_filepath': 'model_bank/credit_model_2024_09_01_psi_ref_preds.parquet',\n",
      " 'snapshot_date': datetime.datetime(2024, 4, 1, 0, 0),\n",
      " 'snapshot_date_str': '2024-04-01'}\n",
      "psi_ref_df row_count: 498\n",
      "label_sdf row_count: 487\n",
      "model_pred_sdf row_count: 487\n",
      "pred_label_sdf row_count: 487\n",
      "recall:  0.632\n",
      "brier score: 0.11818670604553164\n",
      "Population stability index: 0.022752909091593797\n"
     ]
    },
    {
     "name": "stderr",
     "output_type": "stream",
     "text": [
      "                                                                                "
     ]
    },
    {
     "name": "stdout",
     "output_type": "stream",
     "text": [
      "Updated and deduplicated (if applicable) gold metrics table\n",
      "\n",
      "---completed job---\n",
      "\n",
      "\n",
      "Stopping Spark session...\n",
      "processing snapshot_date:  2024-05-01\n",
      "\n",
      "---starting job---\n",
      "\n",
      "{'model_bank_directory': 'model_bank/',\n",
      " 'model_name': 'credit_model_2024_09_01.pkl',\n",
      " 'model_psi_ref_preds_filepath': 'model_bank/credit_model_2024_09_01_psi_ref_preds.parquet',\n",
      " 'snapshot_date': datetime.datetime(2024, 5, 1, 0, 0),\n",
      " 'snapshot_date_str': '2024-05-01'}\n",
      "psi_ref_df row_count: 498\n",
      "label_sdf row_count: 491\n",
      "model_pred_sdf row_count: 491\n",
      "pred_label_sdf row_count: 491\n",
      "recall:  0.5734265734265734\n",
      "brier score: 0.12924896799406815\n",
      "Population stability index: 0.044811308582886095\n"
     ]
    },
    {
     "name": "stderr",
     "output_type": "stream",
     "text": [
      "                                                                                "
     ]
    },
    {
     "name": "stdout",
     "output_type": "stream",
     "text": [
      "Updated and deduplicated (if applicable) gold metrics table\n",
      "\n",
      "---completed job---\n",
      "\n",
      "\n",
      "Stopping Spark session...\n",
      "processing snapshot_date:  2024-06-01\n",
      "\n",
      "---starting job---\n",
      "\n",
      "{'model_bank_directory': 'model_bank/',\n",
      " 'model_name': 'credit_model_2024_09_01.pkl',\n",
      " 'model_psi_ref_preds_filepath': 'model_bank/credit_model_2024_09_01_psi_ref_preds.parquet',\n",
      " 'snapshot_date': datetime.datetime(2024, 6, 1, 0, 0),\n",
      " 'snapshot_date_str': '2024-06-01'}\n",
      "psi_ref_df row_count: 498\n",
      "label_sdf row_count: 489\n",
      "model_pred_sdf row_count: 489\n",
      "pred_label_sdf row_count: 489\n",
      "recall:  0.5761589403973509\n",
      "brier score: 0.13207958260739788\n",
      "Population stability index: 0.02802187141508889\n"
     ]
    },
    {
     "name": "stderr",
     "output_type": "stream",
     "text": [
      "                                                                                "
     ]
    },
    {
     "name": "stdout",
     "output_type": "stream",
     "text": [
      "Updated and deduplicated (if applicable) gold metrics table\n",
      "\n",
      "---completed job---\n",
      "\n",
      "\n",
      "Stopping Spark session...\n",
      "processing snapshot_date:  2024-07-01\n",
      "\n",
      "---starting job---\n",
      "\n",
      "{'model_bank_directory': 'model_bank/',\n",
      " 'model_name': 'credit_model_2024_09_01.pkl',\n",
      " 'model_psi_ref_preds_filepath': 'model_bank/credit_model_2024_09_01_psi_ref_preds.parquet',\n",
      " 'snapshot_date': datetime.datetime(2024, 7, 1, 0, 0),\n",
      " 'snapshot_date_str': '2024-07-01'}\n",
      "psi_ref_df row_count: 498\n",
      "label_sdf row_count: 485\n",
      "model_pred_sdf row_count: 485\n",
      "pred_label_sdf row_count: 485\n",
      "recall:  0.5\n",
      "brier score: 0.15209686730845903\n",
      "Population stability index: 0.018773103889344202\n"
     ]
    },
    {
     "name": "stderr",
     "output_type": "stream",
     "text": [
      "                                                                                "
     ]
    },
    {
     "name": "stdout",
     "output_type": "stream",
     "text": [
      "Updated and deduplicated (if applicable) gold metrics table\n",
      "\n",
      "---completed job---\n",
      "\n",
      "\n",
      "Stopping Spark session...\n",
      "processing snapshot_date:  2024-08-01\n",
      "\n",
      "---starting job---\n",
      "\n",
      "{'model_bank_directory': 'model_bank/',\n",
      " 'model_name': 'credit_model_2024_09_01.pkl',\n",
      " 'model_psi_ref_preds_filepath': 'model_bank/credit_model_2024_09_01_psi_ref_preds.parquet',\n",
      " 'snapshot_date': datetime.datetime(2024, 8, 1, 0, 0),\n",
      " 'snapshot_date_str': '2024-08-01'}\n",
      "psi_ref_df row_count: 498\n",
      "label_sdf row_count: 518\n",
      "model_pred_sdf row_count: 518\n",
      "pred_label_sdf row_count: 518\n",
      "recall:  0.54421768707483\n",
      "brier score: 0.15789177811322985\n",
      "Population stability index: 0.02187521389936209\n"
     ]
    },
    {
     "name": "stderr",
     "output_type": "stream",
     "text": [
      "                                                                                "
     ]
    },
    {
     "name": "stdout",
     "output_type": "stream",
     "text": [
      "Updated and deduplicated (if applicable) gold metrics table\n",
      "\n",
      "---completed job---\n",
      "\n",
      "\n",
      "Stopping Spark session...\n",
      "processing snapshot_date:  2024-09-01\n",
      "\n",
      "---starting job---\n",
      "\n",
      "{'model_bank_directory': 'model_bank/',\n",
      " 'model_name': 'credit_model_2024_09_01.pkl',\n",
      " 'model_psi_ref_preds_filepath': 'model_bank/credit_model_2024_09_01_psi_ref_preds.parquet',\n",
      " 'snapshot_date': datetime.datetime(2024, 9, 1, 0, 0),\n",
      " 'snapshot_date_str': '2024-09-01'}\n",
      "psi_ref_df row_count: 498\n",
      "label_sdf row_count: 511\n",
      "model_pred_sdf row_count: 511\n",
      "pred_label_sdf row_count: 511\n",
      "recall:  0.4880952380952381\n",
      "brier score: 0.17374493191395943\n",
      "Population stability index: 0.03337728589632887\n"
     ]
    },
    {
     "name": "stderr",
     "output_type": "stream",
     "text": [
      "                                                                                "
     ]
    },
    {
     "name": "stdout",
     "output_type": "stream",
     "text": [
      "Updated and deduplicated (if applicable) gold metrics table\n",
      "\n",
      "---completed job---\n",
      "\n",
      "\n",
      "Stopping Spark session...\n",
      "processing snapshot_date:  2024-10-01\n",
      "\n",
      "---starting job---\n",
      "\n",
      "{'model_bank_directory': 'model_bank/',\n",
      " 'model_name': 'credit_model_2024_09_01.pkl',\n",
      " 'model_psi_ref_preds_filepath': 'model_bank/credit_model_2024_09_01_psi_ref_preds.parquet',\n",
      " 'snapshot_date': datetime.datetime(2024, 10, 1, 0, 0),\n",
      " 'snapshot_date_str': '2024-10-01'}\n",
      "psi_ref_df row_count: 498\n",
      "label_sdf row_count: 513\n",
      "model_pred_sdf row_count: 513\n",
      "pred_label_sdf row_count: 513\n",
      "recall:  0.44366197183098594\n",
      "brier score: 0.16972246730811746\n",
      "Population stability index: 0.010571791357506\n"
     ]
    },
    {
     "name": "stderr",
     "output_type": "stream",
     "text": [
      "                                                                                "
     ]
    },
    {
     "name": "stdout",
     "output_type": "stream",
     "text": [
      "Updated and deduplicated (if applicable) gold metrics table\n",
      "\n",
      "---completed job---\n",
      "\n",
      "\n",
      "Stopping Spark session...\n",
      "processing snapshot_date:  2024-11-01\n",
      "\n",
      "---starting job---\n",
      "\n",
      "{'model_bank_directory': 'model_bank/',\n",
      " 'model_name': 'credit_model_2024_09_01.pkl',\n",
      " 'model_psi_ref_preds_filepath': 'model_bank/credit_model_2024_09_01_psi_ref_preds.parquet',\n",
      " 'snapshot_date': datetime.datetime(2024, 11, 1, 0, 0),\n",
      " 'snapshot_date_str': '2024-11-01'}\n",
      "psi_ref_df row_count: 498\n",
      "label_sdf row_count: 491\n",
      "model_pred_sdf row_count: 491\n",
      "pred_label_sdf row_count: 491\n",
      "recall:  0.47651006711409394\n",
      "brier score: 0.15948902553239377\n",
      "Population stability index: 0.025755265463921186\n"
     ]
    },
    {
     "name": "stderr",
     "output_type": "stream",
     "text": [
      "                                                                                "
     ]
    },
    {
     "name": "stdout",
     "output_type": "stream",
     "text": [
      "Updated and deduplicated (if applicable) gold metrics table\n",
      "\n",
      "---completed job---\n",
      "\n",
      "\n",
      "Stopping Spark session...\n",
      "processing snapshot_date:  2024-12-01\n",
      "\n",
      "---starting job---\n",
      "\n",
      "{'model_bank_directory': 'model_bank/',\n",
      " 'model_name': 'credit_model_2024_09_01.pkl',\n",
      " 'model_psi_ref_preds_filepath': 'model_bank/credit_model_2024_09_01_psi_ref_preds.parquet',\n",
      " 'snapshot_date': datetime.datetime(2024, 12, 1, 0, 0),\n",
      " 'snapshot_date_str': '2024-12-01'}\n",
      "psi_ref_df row_count: 498\n",
      "label_sdf row_count: 498\n",
      "model_pred_sdf row_count: 498\n",
      "pred_label_sdf row_count: 498\n",
      "recall:  0.5161290322580645\n",
      "brier score: 0.15482905172099293\n",
      "Population stability index: 0.008279622569816224\n"
     ]
    },
    {
     "name": "stderr",
     "output_type": "stream",
     "text": [
      "                                                                                "
     ]
    },
    {
     "name": "stdout",
     "output_type": "stream",
     "text": [
      "Updated and deduplicated (if applicable) gold metrics table\n",
      "\n",
      "---completed job---\n",
      "\n",
      "\n",
      "Stopping Spark session...\n"
     ]
    }
   ],
   "source": [
    "for snapshot_date in dates_str_lst:\n",
    "    print('processing snapshot_date: ', snapshot_date)\n",
    "    model_monitoring.main(snapshot_date, model_name)"
   ]
  },
  {
   "cell_type": "markdown",
   "id": "96f83576-91a5-4086-a9a7-44e17ccc1dde",
   "metadata": {},
   "source": [
    "## check datamart"
   ]
  },
  {
   "cell_type": "markdown",
   "id": "6554a6a5-3eca-4421-8f10-1b3d2f5b41c4",
   "metadata": {},
   "source": [
    "The `model_monitoring.main()` function initialises a Spark session and stops it after processing each date's dataset. Therefore, as of above code completion, there is no active spark session.   \n",
    "\n",
    "Therefore, we need to initialize a SparkSession again to check"
   ]
  },
  {
   "cell_type": "code",
   "execution_count": 7,
   "id": "f54fd094-c382-4309-8762-b3f6cf4dab07",
   "metadata": {},
   "outputs": [],
   "source": [
    "# Initialize SparkSession\n",
    "spark = pyspark.sql.SparkSession.builder \\\n",
    "    .appName(\"model_metrics_datamart\") \\\n",
    "    .master(\"local[*]\") \\\n",
    "    .getOrCreate()\n",
    "\n",
    "# Set log level to ERROR to hide warnings\n",
    "spark.sparkContext.setLogLevel(\"ERROR\")"
   ]
  },
  {
   "cell_type": "code",
   "execution_count": 8,
   "id": "e02efcbf-a0e3-446b-b559-fba3d93f321a",
   "metadata": {},
   "outputs": [
    {
     "name": "stdout",
     "output_type": "stream",
     "text": [
      "row_count: 18\n",
      "+-------------+--------------------+----------+-----------+------------+\n",
      "|snapshot_date|       model_version|    recall|brier_score|         psi|\n",
      "+-------------+--------------------+----------+-----------+------------+\n",
      "|   2024-08-01|credit_model_2024...| 0.5442177| 0.15789178| 0.021875214|\n",
      "|   2024-03-01|credit_model_2024...|0.57983196| 0.12158051| 0.013596945|\n",
      "|   2024-11-01|credit_model_2024...|0.47651008| 0.15948902| 0.025755266|\n",
      "|   2023-10-01|credit_model_2024...| 0.5620438|  0.1259293| 0.021881998|\n",
      "|   2023-07-01|credit_model_2024...|0.54285717| 0.12266273|  0.05438805|\n",
      "|   2023-12-01|credit_model_2024...|  0.540146|0.124929465| 0.024636293|\n",
      "|   2024-10-01|credit_model_2024...|0.44366196| 0.16972247| 0.010571792|\n",
      "|   2023-09-01|credit_model_2024...| 0.5617284| 0.13896322| 0.023025515|\n",
      "|   2024-05-01|credit_model_2024...|0.57342654| 0.12924896|  0.04481131|\n",
      "|   2024-01-01|credit_model_2024...| 0.5642857| 0.14195083| 0.027492894|\n",
      "|   2024-09-01|credit_model_2024...|0.48809522| 0.17374493| 0.033377286|\n",
      "|   2024-06-01|credit_model_2024...|0.57615894| 0.13207959| 0.028021872|\n",
      "|   2024-07-01|credit_model_2024...|       0.5| 0.15209687| 0.018773103|\n",
      "|   2023-11-01|credit_model_2024...|  0.676259| 0.11070314|  0.04481093|\n",
      "|   2024-02-01|credit_model_2024...| 0.6115108| 0.12007649| 0.044809226|\n",
      "|   2023-08-01|credit_model_2024...|       0.5| 0.14632265| 0.017448224|\n",
      "|   2024-04-01|credit_model_2024...|     0.632|0.118186705| 0.022752909|\n",
      "|   2024-12-01|credit_model_2024...|  0.516129| 0.15482906|0.0082796225|\n",
      "+-------------+--------------------+----------+-----------+------------+\n",
      "\n"
     ]
    }
   ],
   "source": [
    "file_path = \"datamart/gold/model_metrics/gold_metrics_tab.parquet\"\n",
    "df = spark.read.parquet(file_path)\n",
    "print(\"row_count:\",df.count())\n",
    "\n",
    "df.show()"
   ]
  },
  {
   "cell_type": "markdown",
   "id": "5478c52d-fe95-4e6b-a917-bcd56bb5095a",
   "metadata": {},
   "source": [
    "## Plot metrics data with charts"
   ]
  },
  {
   "cell_type": "code",
   "execution_count": 9,
   "id": "734e8003-4969-4966-95ef-cc8f0678c962",
   "metadata": {},
   "outputs": [],
   "source": [
    "metrics_pdf = df.toPandas()"
   ]
  },
  {
   "cell_type": "code",
   "execution_count": 22,
   "id": "c4fa76af",
   "metadata": {},
   "outputs": [
    {
     "data": {
      "image/png": "[encoded data removed]",
      "text/plain": [
       "<Figure size 640x480 with 1 Axes>"
      ]
     },
     "metadata": {},
     "output_type": "display_data"
    }
   ],
   "source": [
    "# recall\n",
    "sns.lineplot(data=metrics_pdf, x=\"snapshot_date\", y=\"recall\")\n",
    "plt.xticks(rotation=45)\n",
    "\n",
    "# Time markers\n",
    "plt.axvline(x=datetime(2023, 7, 1), color=\"blue\", linestyle=\"--\", label=\"train_test_start\")\n",
    "plt.axvline(x=datetime(2024, 7, 1), color=\"blue\", linestyle=\"--\", label=\"train_test_end\")\n",
    "plt.axvline(x=datetime(2024, 9, 1), color=\"green\", linestyle=\"--\", label=\"oot_end\")\n",
    "\n",
    "plt.xlabel('Snapshot Date')\n",
    "plt.ylabel('Recall')\n",
    "plt.title('Recall Jul 23 - Dec 24')\n",
    "plt.legend(loc=\"upper right\")\n",
    "plt.tight_layout()\n",
    "plt.show()"
   ]
  },
  {
   "cell_type": "code",
   "execution_count": 23,
   "id": "87ba034b-bc5a-4b05-ba6a-2b570d79c939",
   "metadata": {},
   "outputs": [
    {
     "data": {
      "image/png": "[encoded data removed]",
      "text/plain": [
       "<Figure size 640x480 with 1 Axes>"
      ]
     },
     "metadata": {},
     "output_type": "display_data"
    }
   ],
   "source": [
    "# brier_score\n",
    "sns.lineplot(data=metrics_pdf, x=\"snapshot_date\", y=\"brier_score\")\n",
    "\n",
    "# Time markers\n",
    "plt.axvline(x=datetime(2023, 7, 1), color=\"blue\", linestyle=\"--\", label=\"train_test_start\")\n",
    "plt.axvline(x=datetime(2024, 7, 1), color=\"blue\", linestyle=\"--\", label=\"train_test_end\")\n",
    "plt.axvline(x=datetime(2024, 9, 1), color=\"green\", linestyle=\"--\", label=\"oot_end\")\n",
    "\n",
    "plt.xlabel('Snapshot Date')\n",
    "plt.ylabel('Brier Score')\n",
    "plt.title('Brier Score Jul 23 - Dec 24')\n",
    "plt.legend(loc=\"upper right\")\n",
    "plt.xticks(rotation=45)\n",
    "plt.tight_layout()\n",
    "plt.show()"
   ]
  },
  {
   "cell_type": "code",
   "execution_count": 24,
   "id": "b6b54816-6c0c-4710-875a-c287a24504a5",
   "metadata": {},
   "outputs": [
    {
     "data": {
      "image/png": "[encoded data removed]",
      "text/plain": [
       "<Figure size 640x480 with 1 Axes>"
      ]
     },
     "metadata": {},
     "output_type": "display_data"
    }
   ],
   "source": [
    "# psi\n",
    "sns.lineplot(data=metrics_pdf, x=\"snapshot_date\", y=\"psi\")\n",
    "plt.axhline(y=0.1, color='red', linestyle='--', linewidth=1, label='Threshold = 0.1')\n",
    "\n",
    "# Time markers\n",
    "plt.axvline(x=datetime(2023, 7, 1), color=\"blue\", linestyle=\"--\", label=\"train_test_start\")\n",
    "plt.axvline(x=datetime(2024, 7, 1), color=\"blue\", linestyle=\"--\", label=\"train_test_end\")\n",
    "plt.axvline(x=datetime(2024, 9, 1), color=\"green\", linestyle=\"--\", label=\"oot_end\")\n",
    "\n",
    "plt.xlabel('Snapshot Date')\n",
    "plt.ylabel('Population Stability Index')\n",
    "plt.title('Population Stability Index Jul 23 - Dec 24')\n",
    "plt.xticks(rotation=45)\n",
    "plt.legend(loc=\"upper right\")\n",
    "plt.tight_layout()\n",
    "plt.show()"
   ]
  },
  {
   "cell_type": "markdown",
   "id": "c23fdda1-d5aa-4f97-9df2-7497fa846d50",
   "metadata": {},
   "source": [
    "## stop spark session"
   ]
  },
  {
   "cell_type": "code",
   "execution_count": 25,
   "id": "62983417-b981-487d-bbf7-5f0cf6b7e31b",
   "metadata": {},
   "outputs": [],
   "source": [
    "# Stop session after using\n",
    "spark.stop()"
   ]
  }
 ],
 "metadata": {
  "kernelspec": {
   "display_name": "Python 3 (ipykernel)",
   "language": "python",
   "name": "python3"
  },
  "language_info": {
   "codemirror_mode": {
    "name": "ipython",
    "version": 3
   },
   "file_extension": ".py",
   "mimetype": "text/x-python",
   "name": "python",
   "nbconvert_exporter": "python",
   "pygments_lexer": "ipython3",
   "version": "3.12.11"
  }
 },
 "nbformat": 4,
 "nbformat_minor": 5
}
